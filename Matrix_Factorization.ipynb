{
 "cells": [
  {
   "cell_type": "code",
   "execution_count": 24,
   "metadata": {},
   "outputs": [],
   "source": [
    "import json\n",
    "import numpy as np\n",
    "import pandas as pd\n",
    "from sklearn.metrics import accuracy_score\n",
    "import matplotlib.pyplot as plt\n",
    "%matplotlib inline"
   ]
  },
  {
   "cell_type": "code",
   "execution_count": 3,
   "metadata": {},
   "outputs": [],
   "source": [
    "file = \"./renttherunway_final_data.json\"\n",
    "df = pd.read_json(file,lines=True)\n",
    "df = df[['user_id','item_id','rating']]\n",
    "df = df.dropna()"
   ]
  },
  {
   "cell_type": "code",
   "execution_count": 26,
   "metadata": {},
   "outputs": [
    {
     "data": {
      "text/html": [
       "<div>\n",
       "<style scoped>\n",
       "    .dataframe tbody tr th:only-of-type {\n",
       "        vertical-align: middle;\n",
       "    }\n",
       "\n",
       "    .dataframe tbody tr th {\n",
       "        vertical-align: top;\n",
       "    }\n",
       "\n",
       "    .dataframe thead th {\n",
       "        text-align: right;\n",
       "    }\n",
       "</style>\n",
       "<table border=\"1\" class=\"dataframe\">\n",
       "  <thead>\n",
       "    <tr style=\"text-align: right;\">\n",
       "      <th></th>\n",
       "      <th>number_nan</th>\n",
       "      <th>number_distinct</th>\n",
       "      <th>distinct vals</th>\n",
       "    </tr>\n",
       "  </thead>\n",
       "  <tbody>\n",
       "    <tr>\n",
       "      <th>user_id</th>\n",
       "      <td>0</td>\n",
       "      <td>105508</td>\n",
       "      <td>[420272, 273551, 360448, 909926, 151944, 73484...</td>\n",
       "    </tr>\n",
       "    <tr>\n",
       "      <th>item_id</th>\n",
       "      <td>0</td>\n",
       "      <td>5850</td>\n",
       "      <td>[2260466, 153475, 1063761, 126335, 616682, 364...</td>\n",
       "    </tr>\n",
       "    <tr>\n",
       "      <th>rating</th>\n",
       "      <td>0</td>\n",
       "      <td>5</td>\n",
       "      <td>[10.0, 8.0, 4.0, 6.0, 2.0]</td>\n",
       "    </tr>\n",
       "  </tbody>\n",
       "</table>\n",
       "</div>"
      ],
      "text/plain": [
       "         number_nan  number_distinct  \\\n",
       "user_id           0           105508   \n",
       "item_id           0             5850   \n",
       "rating            0                5   \n",
       "\n",
       "                                             distinct vals  \n",
       "user_id  [420272, 273551, 360448, 909926, 151944, 73484...  \n",
       "item_id  [2260466, 153475, 1063761, 126335, 616682, 364...  \n",
       "rating                          [10.0, 8.0, 4.0, 6.0, 2.0]  "
      ]
     },
     "execution_count": 26,
     "metadata": {},
     "output_type": "execute_result"
    }
   ],
   "source": [
    "nunique = dict(zip(df.columns, [df[col].nunique() for col in df.columns]))\n",
    "summary = pd.DataFrame({'number_nan':df.isna().sum(), # [df.isna().sum()][0], here [0] coerces list into series with 12 separate values\n",
    "                        'number_distinct':[df[col].nunique() for col in df.columns],\n",
    "                       'distinct vals': [df[col].unique() for col in df.columns]})\n",
    "summary"
   ]
  },
  {
   "cell_type": "code",
   "execution_count": 3,
   "metadata": {},
   "outputs": [
    {
     "data": {
      "text/html": [
       "<div>\n",
       "<style scoped>\n",
       "    .dataframe tbody tr th:only-of-type {\n",
       "        vertical-align: middle;\n",
       "    }\n",
       "\n",
       "    .dataframe tbody tr th {\n",
       "        vertical-align: top;\n",
       "    }\n",
       "\n",
       "    .dataframe thead th {\n",
       "        text-align: right;\n",
       "    }\n",
       "</style>\n",
       "<table border=\"1\" class=\"dataframe\">\n",
       "  <thead>\n",
       "    <tr style=\"text-align: right;\">\n",
       "      <th></th>\n",
       "      <th>user_id</th>\n",
       "      <th>item_id</th>\n",
       "      <th>rating</th>\n",
       "    </tr>\n",
       "  </thead>\n",
       "  <tbody>\n",
       "    <tr>\n",
       "      <th>0</th>\n",
       "      <td>420272</td>\n",
       "      <td>2260466</td>\n",
       "      <td>10.0</td>\n",
       "    </tr>\n",
       "    <tr>\n",
       "      <th>1</th>\n",
       "      <td>273551</td>\n",
       "      <td>153475</td>\n",
       "      <td>10.0</td>\n",
       "    </tr>\n",
       "    <tr>\n",
       "      <th>2</th>\n",
       "      <td>360448</td>\n",
       "      <td>1063761</td>\n",
       "      <td>10.0</td>\n",
       "    </tr>\n",
       "    <tr>\n",
       "      <th>3</th>\n",
       "      <td>909926</td>\n",
       "      <td>126335</td>\n",
       "      <td>8.0</td>\n",
       "    </tr>\n",
       "    <tr>\n",
       "      <th>4</th>\n",
       "      <td>151944</td>\n",
       "      <td>616682</td>\n",
       "      <td>10.0</td>\n",
       "    </tr>\n",
       "  </tbody>\n",
       "</table>\n",
       "</div>"
      ],
      "text/plain": [
       "   user_id  item_id  rating\n",
       "0   420272  2260466    10.0\n",
       "1   273551   153475    10.0\n",
       "2   360448  1063761    10.0\n",
       "3   909926   126335     8.0\n",
       "4   151944   616682    10.0"
      ]
     },
     "execution_count": 3,
     "metadata": {},
     "output_type": "execute_result"
    }
   ],
   "source": [
    "df.head()"
   ]
  },
  {
   "cell_type": "code",
   "execution_count": 4,
   "metadata": {},
   "outputs": [],
   "source": [
    "n_users = df.user_id.unique().shape[0]\n",
    "n_items = df.item_id.unique().shape[0]\n",
    "ratings = pd.DataFrame(np.zeros((n_users, n_items)), index = df.user_id.unique(), columns = list(df.item_id.unique()))\n",
    "for row in df.itertuples():\n",
    "    ratings.loc[row[1],row[2]] = row[3]\n",
    "ratings = np.array(ratings)"
   ]
  },
  {
   "cell_type": "code",
   "execution_count": 5,
   "metadata": {},
   "outputs": [
    {
     "name": "stdout",
     "output_type": "stream",
     "text": [
      "105508 users\n",
      "5850 items\n",
      "Sparsity: 0.03%\n"
     ]
    }
   ],
   "source": [
    "print (str(n_users) + ' users')\n",
    "print (str(n_items) + ' items')\n",
    "sparsity = float(len(ratings.nonzero()[0]))\n",
    "sparsity /= (ratings.shape[0] * ratings.shape[1])\n",
    "sparsity *= 100\n",
    "print ('Sparsity: {:4.2f}%'.format(sparsity))"
   ]
  },
  {
   "cell_type": "code",
   "execution_count": 6,
   "metadata": {},
   "outputs": [],
   "source": [
    "max_count = 0\n",
    "one_count = 0\n",
    "two_count = 0\n",
    "three_count = 0\n",
    "for i in range(ratings.shape[0]):\n",
    "    if len(ratings[i, :].nonzero()[0]) > 9:\n",
    "        max_count+=1\n",
    "        \n",
    "    if len(ratings[i, :].nonzero()[0]) == 1:\n",
    "        one_count += 1\n",
    "        \n",
    "    if len(ratings[i, :].nonzero()[0]) == 2:\n",
    "        two_count += 1\n",
    "        \n",
    "    if len(ratings[i, :].nonzero()[0]) == 3:\n",
    "        three_count += 1"
   ]
  },
  {
   "cell_type": "code",
   "execution_count": 7,
   "metadata": {},
   "outputs": [
    {
     "name": "stdout",
     "output_type": "stream",
     "text": [
      "0.6808014558137772\n",
      "0.16936156499981045\n",
      "0.06513250180081132\n",
      "1388\n"
     ]
    }
   ],
   "source": [
    "print(one_count/n_users)\n",
    "print(two_count/n_users)\n",
    "print(three_count/n_users)\n",
    "print(max_count)"
   ]
  },
  {
   "cell_type": "code",
   "execution_count": 6,
   "metadata": {},
   "outputs": [],
   "source": [
    "test_users = []\n",
    "for i in range(ratings.shape[0]):\n",
    "    if len(ratings[i, :].nonzero()[0]) > 9:\n",
    "        test_users.append(i)"
   ]
  },
  {
   "cell_type": "code",
   "execution_count": 7,
   "metadata": {},
   "outputs": [],
   "source": [
    "def train_test_split(ratings, test_users, s):\n",
    "    test = np.zeros(ratings.shape)\n",
    "    train = ratings.copy()\n",
    "    for user in test_users:\n",
    "        test_ratings = np.random.choice(ratings[user, :].nonzero()[0], size=s, replace=False)\n",
    "        train[user, test_ratings] = 0.\n",
    "        test[user, test_ratings] = ratings[user, test_ratings]\n",
    "        \n",
    "    # Test and training are truly disjoint\n",
    "    assert(np.all((train * test) == 0)) \n",
    "    return train, test"
   ]
  },
  {
   "cell_type": "code",
   "execution_count": 8,
   "metadata": {},
   "outputs": [],
   "source": [
    "train, test = train_test_split(ratings, test_users, 5)"
   ]
  },
  {
   "cell_type": "code",
   "execution_count": 9,
   "metadata": {},
   "outputs": [],
   "source": [
    "from sklearn.metrics import mean_squared_error\n",
    "\n",
    "def get_mse(pred, actual):\n",
    "    # Ignore nonzero terms.\n",
    "    pred = pred[actual.nonzero()].flatten()\n",
    "    actual = actual[actual.nonzero()].flatten()\n",
    "    return mean_squared_error(pred, actual)"
   ]
  },
  {
   "cell_type": "code",
   "execution_count": 10,
   "metadata": {},
   "outputs": [],
   "source": [
    "class ExplicitMF():\n",
    "    def __init__(self, \n",
    "                 ratings,\n",
    "                 n_factors=40,\n",
    "                 learning='sgd',\n",
    "                 item_fact_reg=0.0, \n",
    "                 user_fact_reg=0.0,\n",
    "                 item_bias_reg=0.0,\n",
    "                 user_bias_reg=0.0,\n",
    "                 verbose=False):\n",
    "        \"\"\"\n",
    "        Train a matrix factorization model to predict empty \n",
    "        entries in a matrix. The terminology assumes a \n",
    "        ratings matrix which is ~ user x item\n",
    "        \n",
    "        Params\n",
    "        ======\n",
    "        ratings : (ndarray)\n",
    "            User x Item matrix with corresponding ratings\n",
    "        \n",
    "        n_factors : (int)\n",
    "            Number of latent factors to use in matrix \n",
    "            factorization model\n",
    "        learning : (str)\n",
    "            Method of optimization. Options include \n",
    "            'sgd' or 'als'.\n",
    "        \n",
    "        item_fact_reg : (float)\n",
    "            Regularization term for item latent factors\n",
    "        \n",
    "        user_fact_reg : (float)\n",
    "            Regularization term for user latent factors\n",
    "            \n",
    "        item_bias_reg : (float)\n",
    "            Regularization term for item biases\n",
    "        \n",
    "        user_bias_reg : (float)\n",
    "            Regularization term for user biases\n",
    "        \n",
    "        verbose : (bool)\n",
    "            Whether or not to printout training progress\n",
    "        \"\"\"\n",
    "        \n",
    "        self.ratings = ratings\n",
    "        self.n_users, self.n_items = ratings.shape\n",
    "        self.n_factors = n_factors\n",
    "        self.item_fact_reg = item_fact_reg\n",
    "        self.user_fact_reg = user_fact_reg\n",
    "        self.item_bias_reg = item_bias_reg\n",
    "        self.user_bias_reg = user_bias_reg\n",
    "        self.learning = learning\n",
    "        if self.learning == 'sgd':\n",
    "            self.sample_row, self.sample_col = self.ratings.nonzero()\n",
    "            self.n_samples = len(self.sample_row)\n",
    "        self._v = verbose\n",
    "\n",
    "    def als_step(self,\n",
    "                 latent_vectors,\n",
    "                 fixed_vecs,\n",
    "                 ratings,\n",
    "                 _lambda,\n",
    "                 type='user'):\n",
    "        \"\"\"\n",
    "        One of the two ALS steps. Solve for the latent vectors\n",
    "        specified by type.\n",
    "        \"\"\"\n",
    "        if type == 'user':\n",
    "            # Precompute\n",
    "            YTY = fixed_vecs.T.dot(fixed_vecs)\n",
    "            lambdaI = np.eye(YTY.shape[0]) * _lambda\n",
    "\n",
    "            for u in range(latent_vectors.shape[0]):\n",
    "                latent_vectors[u, :] = solve((YTY + lambdaI), \n",
    "                                             ratings[u, :].dot(fixed_vecs))\n",
    "        elif type == 'item':\n",
    "            # Precompute\n",
    "            XTX = fixed_vecs.T.dot(fixed_vecs)\n",
    "            lambdaI = np.eye(XTX.shape[0]) * _lambda\n",
    "            \n",
    "            for i in range(latent_vectors.shape[0]):\n",
    "                latent_vectors[i, :] = solve((XTX + lambdaI), \n",
    "                                             ratings[:, i].T.dot(fixed_vecs))\n",
    "        return latent_vectors\n",
    "\n",
    "    def train(self, n_iter=10, learning_rate=0.1):\n",
    "        \"\"\" Train model for n_iter iterations from scratch.\"\"\"\n",
    "        # initialize latent vectors        \n",
    "        self.user_vecs = np.random.normal(scale=1./self.n_factors,size=(self.n_users, self.n_factors))\n",
    "        self.item_vecs = np.random.normal(scale=1./self.n_factors,size=(self.n_items, self.n_factors))\n",
    "        \n",
    "        if self.learning == 'als':\n",
    "            self.partial_train(n_iter)\n",
    "        elif self.learning == 'sgd':\n",
    "            self.learning_rate = learning_rate\n",
    "            self.user_bias = np.zeros(self.n_users)\n",
    "            self.item_bias = np.zeros(self.n_items)\n",
    "            self.global_bias = np.mean(self.ratings[np.where(self.ratings != 0)])\n",
    "            self.partial_train(n_iter)\n",
    "    \n",
    "    \n",
    "    def partial_train(self, n_iter):\n",
    "        \"\"\" \n",
    "        Train model for n_iter iterations. Can be \n",
    "        called multiple times for further training.\n",
    "        \"\"\"\n",
    "        ctr = 1\n",
    "        while ctr <= n_iter:\n",
    "            if ctr % 10 == 0 and self._v:\n",
    "                print ('\\tcurrent iteration: {}'.format(ctr))\n",
    "            if self.learning == 'als':\n",
    "                self.user_vecs = self.als_step(self.user_vecs, \n",
    "                                               self.item_vecs, \n",
    "                                               self.ratings, \n",
    "                                               self.user_fact_reg, \n",
    "                                               type='user')\n",
    "                self.item_vecs = self.als_step(self.item_vecs, \n",
    "                                               self.user_vecs, \n",
    "                                               self.ratings, \n",
    "                                               self.item_fact_reg, \n",
    "                                               type='item')\n",
    "            elif self.learning == 'sgd':\n",
    "                self.training_indices = np.arange(self.n_samples)\n",
    "                np.random.shuffle(self.training_indices)\n",
    "                self.sgd()\n",
    "            ctr += 1\n",
    "\n",
    "    def sgd(self):\n",
    "        for idx in self.training_indices:\n",
    "#             print('idx',idx)\n",
    "            u = self.sample_row[idx]\n",
    "#             print('u',u)\n",
    "            i = self.sample_col[idx]\n",
    "#             print('i',i)\n",
    "            prediction = self.predict(u, i)\n",
    "            e = self.ratings[u,i] - prediction # error \n",
    "#             print('prediction',prediction)\n",
    "            \n",
    "            # Update biases\n",
    "            self.user_bias[u] += self.learning_rate * (e - self.user_bias_reg * self.user_bias[u])\n",
    "#             print('self.user_bias[u]',self.user_bias[u])\n",
    "            self.item_bias[i] += self.learning_rate * (e - self.item_bias_reg * self.item_bias[i])\n",
    "#             print('self.item_bias[i]',self.item_bias[i])\n",
    "            \n",
    "            #Update latent factors\n",
    "            self.user_vecs[u, :] += self.learning_rate * (e * self.item_vecs[i, :] - self.user_fact_reg * self.user_vecs[u,:])\n",
    "            self.item_vecs[i, :] += self.learning_rate * (e * self.user_vecs[u, :] - self.item_fact_reg * self.item_vecs[i,:])\n",
    "    \n",
    "    def predict(self, u, i):\n",
    "        \"\"\" Single user and item prediction.\"\"\"\n",
    "        if self.learning == 'als':\n",
    "            return self.user_vecs[u, :].dot(self.item_vecs[i, :].T)\n",
    "        elif self.learning == 'sgd':\n",
    "            prediction = self.global_bias + self.user_bias[u] + self.item_bias[i]\n",
    "#             print('self.user_bias[u]_pre',self.user_bias[u])\n",
    "#             print('self.item_bias[i]_pre',self.item_bias[i])\n",
    "            prediction += self.user_vecs[u, :].dot(self.item_vecs[i, :].T)\n",
    "            return prediction\n",
    "    \n",
    "    def predict_all(self):\n",
    "        \"\"\" Predict ratings for every user and item.\"\"\"\n",
    "        predictions = np.zeros((self.user_vecs.shape[0], \n",
    "                                self.item_vecs.shape[0]))\n",
    "        r = self.user_vecs.shape[0]\n",
    "        c = self.item_vecs.shape[0]\n",
    "        global_bias = np.repeat(self.global_bias, r*c).reshape(r,c)\n",
    "        user_bias = np.repeat(self.user_bias, c, axis=0).reshape(r,c)\n",
    "#         print('user_bias:', item_bias)\n",
    "        item_bias = np.repeat(self.item_bias, r, axis=0).reshape(c,r).T\n",
    "#         print('item_bias:', item_bias)\n",
    "        predictions = np.matmul(self.user_vecs,self.item_vecs.T)+global_bias+user_bias+item_bias\n",
    "#         print('global_bias:', global_bias)\n",
    "#         print('user_vecs:', self.user_vecs)\n",
    "#         print('item_vecs:', self.item_vecs)\n",
    "#         for u in range(self.user_vecs.shape[0]):\n",
    "#             for i in range(self.item_vecs.shape[0]):\n",
    "#                 predictions[u, i] = self.predict(u, i)\n",
    "        return predictions\n",
    "    \n",
    "    def calculate_learning_curve(self, iter_array, test, learning_rate=0.1):\n",
    "        \"\"\"\n",
    "        Keep track of MSE as a function of training iterations.\n",
    "        \n",
    "        Params\n",
    "        ======\n",
    "        iter_array : (list)\n",
    "            List of numbers of iterations to train for each step of \n",
    "            the learning curve. e.g. [1, 5, 10, 20]\n",
    "        test : (2D ndarray)\n",
    "            Testing dataset (assumed to be user x item).\n",
    "        \n",
    "        The function creates two new class attributes:\n",
    "        \n",
    "        train_mse : (list)\n",
    "            Training data MSE values for each value of iter_array\n",
    "        test_mse : (list)\n",
    "            Test data MSE values for each value of iter_array\n",
    "        \"\"\"\n",
    "        iter_array.sort()\n",
    "        self.train_mse =[]\n",
    "        self.test_mse = []\n",
    "        iter_diff = 0\n",
    "        for (i, n_iter) in enumerate(iter_array):\n",
    "            if self._v:\n",
    "                print ('Iteration: {}'.format(n_iter))\n",
    "            if i == 0:\n",
    "                self.train(n_iter - iter_diff, learning_rate)\n",
    "            else:\n",
    "                self.partial_train(n_iter - iter_diff)\n",
    "\n",
    "            predictions = self.predict_all()\n",
    "#             print(predictions)\n",
    "\n",
    "            self.train_mse += [get_mse(predictions, self.ratings)]\n",
    "            self.test_mse += [get_mse(predictions, test)]\n",
    "            if self._v:\n",
    "                print ('Train mse: ' + str(self.train_mse[-1]))\n",
    "                print ('Test mse: ' + str(self.test_mse[-1]))\n",
    "            iter_diff = n_iter"
   ]
  },
  {
   "cell_type": "code",
   "execution_count": 28,
   "metadata": {},
   "outputs": [
    {
     "name": "stdout",
     "output_type": "stream",
     "text": [
      "Factors: 40\n",
      "Regularization: 0.1\n",
      "New optimal hyperparameters\n",
      "n_factors                                             40\n",
      "reg                                                  0.1\n",
      "n_iter                                               100\n",
      "train_mse                                        1.51135\n",
      "test_mse                                         2.09156\n",
      "model        <__main__.ExplicitMF object at 0x110d00908>\n",
      "dtype: object\n",
      "Regularization: 0.5\n",
      "Regularization: 1.0\n",
      "Regularization: 1.5\n",
      "Regularization: 2.0\n",
      "Factors: 60\n",
      "Regularization: 0.1\n",
      "New optimal hyperparameters\n",
      "n_factors                                             60\n",
      "reg                                                  0.1\n",
      "n_iter                                               100\n",
      "train_mse                                        1.51756\n",
      "test_mse                                         2.09151\n",
      "model        <__main__.ExplicitMF object at 0x110d008d0>\n",
      "dtype: object\n",
      "Regularization: 0.5\n",
      "Regularization: 1.0\n",
      "Regularization: 1.5\n",
      "Regularization: 2.0\n",
      "Factors: 80\n",
      "Regularization: 0.1\n",
      "Regularization: 0.5\n",
      "Regularization: 1.0\n",
      "Regularization: 1.5\n",
      "Regularization: 2.0\n"
     ]
    }
   ],
   "source": [
    "# parameter tuning\n",
    "iter_array = [100]\n",
    "latent_factors = [40, 60, 80]\n",
    "regularizations = [0.1, 0.5, 1.0, 1.5, 2.0]\n",
    "regularizations.sort()\n",
    "\n",
    "best_params = {}\n",
    "best_params['n_factors'] = latent_factors[0]\n",
    "best_params['reg'] = regularizations[0]\n",
    "best_params['n_iter'] = 0\n",
    "best_params['train_mse'] = np.inf\n",
    "best_params['test_mse'] = np.inf\n",
    "best_params['model'] = None\n",
    "\n",
    "for fact in latent_factors:\n",
    "    print ('Factors: {}'.format(fact))\n",
    "    for reg in regularizations:\n",
    "        print ('Regularization: {}'.format(reg))\n",
    "        MF_SGD = ExplicitMF(train, n_factors=fact, learning='sgd',user_fact_reg=reg, \n",
    "                            item_fact_reg=reg,user_bias_reg=reg, item_bias_reg=reg)\n",
    "        MF_SGD.calculate_learning_curve(iter_array, test, learning_rate=0.001)\n",
    "        min_idx = np.argmin(MF_SGD.test_mse)\n",
    "        if MF_SGD.test_mse[min_idx] < best_params['test_mse']:\n",
    "            best_params['n_factors'] = fact\n",
    "            best_params['reg'] = reg\n",
    "            best_params['n_iter'] = iter_array[min_idx]\n",
    "            best_params['train_mse'] = MF_SGD.train_mse[min_idx]\n",
    "            best_params['test_mse'] = MF_SGD.test_mse[min_idx]\n",
    "            best_params['model'] = MF_SGD\n",
    "            print ('New optimal hyperparameters')\n",
    "            print (pd.Series(best_params))"
   ]
  },
  {
   "cell_type": "code",
   "execution_count": 12,
   "metadata": {},
   "outputs": [
    {
     "name": "stdout",
     "output_type": "stream",
     "text": [
      "global bias: 9.097053838430728\n",
      "user bias: [-0.4740838   0.0808218   0.06636474 ... -0.07468627  0.09132585\n",
      "  0.06199352]\n",
      "item bias: [-0.41530413  0.02052327  0.18979074 ...  0.07048916 -0.45693873\n",
      " -0.09705462]\n",
      "U: [[-0.01669967  0.01371345 -0.00332065 ... -0.01879132 -0.01040232\n",
      "   0.01811771]\n",
      " [ 0.02625129  0.01410437 -0.0289035  ... -0.0142219   0.02050781\n",
      "  -0.01260547]\n",
      " [-0.01080536 -0.01774298 -0.01236349 ... -0.00830043  0.01450926\n",
      "  -0.00869612]\n",
      " ...\n",
      " [-0.00381015 -0.01492548 -0.01356817 ... -0.01687659 -0.01636669\n",
      "  -0.00620276]\n",
      " [-0.00989788 -0.02685333 -0.01243646 ...  0.01930839 -0.01600906\n",
      "  -0.0183856 ]\n",
      " [ 0.00912844 -0.00720642 -0.01639846 ... -0.01986111 -0.01658498\n",
      "  -0.02155913]]\n",
      "V: [[-1.14777925e-02 -1.48852925e-02 -2.07503680e-03 ... -2.41356098e-03\n",
      "  -8.03334235e-03  9.62990135e-03]\n",
      " [-6.64665482e-04 -4.06237480e-03 -3.46778987e-03 ... -1.13462892e-03\n",
      "   7.24690939e-04 -1.91493032e-03]\n",
      " [-4.96965145e-03 -2.94475168e-04  1.41369172e-03 ...  7.39721701e-04\n",
      "   5.00701235e-03  5.49828332e-03]\n",
      " ...\n",
      " [-2.03319237e-03 -8.86699078e-03  6.32124083e-03 ... -1.38572474e-03\n",
      "  -1.27223990e-02 -8.75447313e-03]\n",
      " [ 7.42464932e-04  1.14754584e-02  1.88441220e-03 ... -6.46526735e-04\n",
      "  -5.56979915e-03 -2.27326267e-02]\n",
      " [ 1.50465026e-02 -6.37745878e-05 -6.50309385e-03 ...  7.87454827e-03\n",
      "  -5.14155219e-03  1.48933814e-02]]\n"
     ]
    }
   ],
   "source": [
    "print('global bias:', MF_SGD.global_bias)\n",
    "print('user bias:', MF_SGD.user_bias)\n",
    "print('item bias:', MF_SGD.item_bias)\n",
    "print('U:', MF_SGD.user_vecs)\n",
    "print('V:', MF_SGD.item_vecs)\n",
    "\n",
    "final_global_bias = MF_SGD.global_bias\n",
    "final_user_bias = MF_SGD.user_bias\n",
    "final_item_bias = MF_SGD.item_bias\n",
    "U = MF_SGD.user_vecs\n",
    "V = MF_SGD.item_vecs"
   ]
  },
  {
   "cell_type": "code",
   "execution_count": 30,
   "metadata": {},
   "outputs": [
    {
     "data": {
      "text/plain": [
       "array([-0.01066704,  0.00226642,  0.01154316, -0.02941156, -0.00550189,\n",
       "       -0.02877116, -0.01535801, -0.00745708,  0.02451411, -0.01053234,\n",
       "        0.02014435, -0.00277532, -0.01382063,  0.01075337, -0.02523909,\n",
       "       -0.0082922 , -0.01714394,  0.01763394, -0.00519305,  0.00679878,\n",
       "        0.0282616 , -0.00094717,  0.00989916,  0.00635893, -0.0143815 ,\n",
       "        0.01059468,  0.03970049,  0.00440436, -0.0021582 ,  0.00261869,\n",
       "        0.01222807,  0.0003785 ,  0.0125584 , -0.04956333,  0.02693728,\n",
       "       -0.02434111, -0.00878961, -0.01256701, -0.02119803,  0.01229174,\n",
       "        0.00470316, -0.01490325, -0.0010371 ,  0.0173419 ,  0.02175083,\n",
       "       -0.02095298, -0.01379473, -0.00296912, -0.00839032, -0.00353952,\n",
       "       -0.01133045,  0.00639407,  0.02836075,  0.00572448,  0.00173862,\n",
       "        0.00936048,  0.008445  , -0.01797048,  0.0079464 ,  0.01503095])"
      ]
     },
     "execution_count": 30,
     "metadata": {},
     "output_type": "execute_result"
    }
   ],
   "source": [
    "U[0,:]"
   ]
  },
  {
   "cell_type": "code",
   "execution_count": 32,
   "metadata": {},
   "outputs": [
    {
     "data": {
      "text/plain": [
       "array([-1.03014452e-02,  1.38210416e-04,  1.92508929e-02, -9.26118855e-03,\n",
       "       -7.90539924e-03, -5.64277731e-03, -7.28721186e-03,  3.14477558e-03,\n",
       "       -7.22314913e-03, -1.86437270e-02,  8.56162856e-03, -9.06633294e-03,\n",
       "       -1.72638521e-02,  1.55243658e-02, -6.01848869e-03, -1.43398934e-03,\n",
       "       -2.17713611e-02, -1.83626020e-03,  8.98409607e-03,  1.27789665e-03,\n",
       "        7.46211684e-03,  3.72633214e-03,  2.68887707e-02,  3.79846471e-04,\n",
       "       -1.10685808e-03,  2.60010832e-02,  8.95566501e-03,  1.70922659e-02,\n",
       "        6.81661507e-03, -4.67698241e-05,  2.17580933e-02, -1.48293132e-02,\n",
       "       -9.58099035e-03, -3.52790163e-02, -1.15493919e-02,  5.77906898e-03,\n",
       "       -1.47655489e-02, -8.99469395e-03,  3.43069347e-04, -8.83979741e-03,\n",
       "        2.00338634e-02,  8.13453013e-03, -1.56596072e-02,  1.46915033e-02,\n",
       "        2.42215999e-02,  4.33249528e-03,  7.70659709e-03,  1.56071428e-02,\n",
       "        1.36976239e-02, -3.06673930e-03,  2.33818791e-03,  1.65250804e-03,\n",
       "        2.62632795e-02,  1.48058903e-02,  8.21335688e-03, -1.89835489e-03,\n",
       "       -1.90992637e-03,  3.80856708e-03, -5.83581442e-03,  1.50552352e-02])"
      ]
     },
     "execution_count": 32,
     "metadata": {},
     "output_type": "execute_result"
    }
   ],
   "source": [
    "V[0,:]"
   ]
  },
  {
   "cell_type": "code",
   "execution_count": 34,
   "metadata": {},
   "outputs": [
    {
     "data": {
      "text/plain": [
       "<matplotlib.collections.PathCollection at 0x128e74668>"
      ]
     },
     "execution_count": 34,
     "metadata": {},
     "output_type": "execute_result"
    },
    {
     "data": {
      "image/png": "[encoded data removed]",
      "text/plain": [
       "<Figure size 432x288 with 1 Axes>"
      ]
     },
     "metadata": {},
     "output_type": "display_data"
    }
   ],
   "source": [
    "plt.scatter(U[0,:],V[0,:])"
   ]
  },
  {
   "cell_type": "code",
   "execution_count": 37,
   "metadata": {},
   "outputs": [
    {
     "data": {
      "text/plain": [
       "array([ 6.78809494e-04, -2.35114164e-02,  8.08412162e-03,  1.79060476e-02,\n",
       "       -2.54253227e-03,  7.41210823e-03, -2.37011770e-02, -6.09525513e-04,\n",
       "       -1.57116987e-02,  2.53857456e-02, -2.09890418e-02, -1.71192956e-02,\n",
       "       -4.28960621e-03,  1.95851019e-02, -2.20368847e-05,  1.72478380e-02,\n",
       "        1.49058727e-02,  1.34147404e-02, -4.28429623e-05,  8.15106763e-03,\n",
       "       -1.77261099e-02,  3.12406314e-03, -2.33166864e-03,  1.45367716e-02,\n",
       "        1.43641419e-02,  2.33122815e-05,  9.80733888e-03,  4.82880280e-03,\n",
       "       -1.04663727e-02,  5.51724951e-03,  1.42719852e-02, -8.14229472e-03,\n",
       "       -2.96526948e-03,  1.19914486e-02, -2.91991900e-02,  1.18714433e-03,\n",
       "       -1.23777734e-02, -1.72943458e-02, -1.08550327e-02, -1.49890323e-02,\n",
       "        4.90114780e-03,  1.10718239e-02,  1.12140959e-02, -8.39570450e-03,\n",
       "       -1.77699493e-02, -1.78697992e-03, -2.03321003e-02,  1.82558785e-02,\n",
       "        9.88857154e-03, -9.61005814e-04, -2.93340549e-02, -3.32737625e-03,\n",
       "       -1.38285393e-02, -1.94349800e-02,  3.14173239e-03,  2.63638315e-02,\n",
       "       -1.86415916e-02, -1.16493940e-02, -1.30563573e-03,  2.51139626e-02])"
      ]
     },
     "execution_count": 37,
     "metadata": {},
     "output_type": "execute_result"
    }
   ],
   "source": [
    "U[1,:]"
   ]
  },
  {
   "cell_type": "code",
   "execution_count": 38,
   "metadata": {},
   "outputs": [
    {
     "data": {
      "text/plain": [
       "array([ 2.58992925e-03,  2.49349867e-03,  3.66922841e-03, -1.66858317e-03,\n",
       "        8.93352639e-04,  9.95694564e-04,  1.53434100e-03,  1.66949471e-03,\n",
       "        1.45048540e-04, -2.32094014e-03,  4.50647552e-03,  2.40669172e-03,\n",
       "        1.32269728e-03,  4.86720430e-03, -1.89891666e-04,  4.01635669e-03,\n",
       "        2.33339330e-03, -1.01797860e-03, -7.85760717e-04, -2.16335815e-03,\n",
       "       -1.29681253e-03,  3.14960536e-03, -3.25885340e-03,  2.71298312e-03,\n",
       "        7.53970218e-04,  3.80064910e-03,  1.90055170e-03, -3.25193461e-03,\n",
       "       -7.34662130e-04, -8.49655918e-04, -2.44690949e-04,  2.11242494e-03,\n",
       "       -4.35108974e-04,  9.42073471e-04,  1.79463220e-03, -2.17377590e-03,\n",
       "       -2.89180781e-04,  3.61387036e-05, -2.23810539e-03,  1.25607884e-03,\n",
       "        1.25653067e-03, -1.09472268e-03, -3.07064727e-03,  2.13472097e-03,\n",
       "       -8.23639442e-04, -1.21639430e-04, -1.86140410e-03,  9.35684640e-04,\n",
       "        4.67082046e-03, -2.36435540e-03, -1.58877871e-03, -2.85009989e-03,\n",
       "       -2.78969434e-03,  4.57503475e-03,  2.56425999e-03,  3.24572667e-03,\n",
       "       -2.62148884e-03,  1.88037439e-03,  4.36898545e-03, -6.70497925e-04])"
      ]
     },
     "execution_count": 38,
     "metadata": {},
     "output_type": "execute_result"
    }
   ],
   "source": [
    "V[1,:]"
   ]
  },
  {
   "cell_type": "code",
   "execution_count": 35,
   "metadata": {
    "scrolled": true
   },
   "outputs": [
    {
     "data": {
      "text/plain": [
       "<matplotlib.collections.PathCollection at 0x128efc940>"
      ]
     },
     "execution_count": 35,
     "metadata": {},
     "output_type": "execute_result"
    },
    {
     "data": {
      "image/png": "[encoded data removed]",
      "text/plain": [
       "<Figure size 432x288 with 1 Axes>"
      ]
     },
     "metadata": {},
     "output_type": "display_data"
    }
   ],
   "source": [
    "plt.scatter(U[1,:],V[1,:])"
   ]
  },
  {
   "cell_type": "code",
   "execution_count": 43,
   "metadata": {
    "scrolled": true
   },
   "outputs": [
    {
     "data": {
      "text/plain": [
       "array([-0.00250178, -0.00127511,  0.00030299,  0.00685947,  0.00050289,\n",
       "        0.00249134, -0.00335444, -0.00166934,  0.00459093,  0.00651593,\n",
       "        0.00371701, -0.00403769,  0.00391158, -0.00568827,  0.00440698,\n",
       "       -0.00109381, -0.00344902, -0.00937664, -0.00311368, -0.00172666,\n",
       "        0.00353591, -0.00823119,  0.00951479,  0.00060611,  0.00124075,\n",
       "       -0.01001867,  0.00391665,  0.00703414,  0.00414115,  0.00100676,\n",
       "       -0.00368593, -0.00538047,  0.00220783, -0.00268038, -0.00222366,\n",
       "        0.01491714, -0.00028183, -0.0084798 ,  0.0057309 , -0.00430869,\n",
       "       -0.00589247, -0.00637272,  0.0005162 , -0.0099144 ,  0.00456145,\n",
       "        0.00059888, -0.00300578,  0.00501279, -0.00899886, -0.00281655,\n",
       "       -0.00136308, -0.00215758,  0.00255146,  0.00019243, -0.00354117,\n",
       "       -0.00263722,  0.00076019, -0.00957445, -0.00490442, -0.00439392])"
      ]
     },
     "execution_count": 43,
     "metadata": {},
     "output_type": "execute_result"
    }
   ],
   "source": [
    "U[6,:]"
   ]
  },
  {
   "cell_type": "code",
   "execution_count": 44,
   "metadata": {},
   "outputs": [
    {
     "data": {
      "text/plain": [
       "array([ 0.03389853,  0.01123524,  0.00190325,  0.01271124, -0.0011942 ,\n",
       "       -0.00503939,  0.01950101,  0.01492299, -0.01149771, -0.00168359,\n",
       "       -0.01935939, -0.01938038,  0.02816965,  0.00120263,  0.00196864,\n",
       "       -0.00592165,  0.00580919, -0.01890179, -0.00027442,  0.00515944,\n",
       "        0.00776526,  0.00031183,  0.00704298,  0.0127197 , -0.00212977,\n",
       "        0.00184002,  0.02344588, -0.0019043 ,  0.01445933,  0.01087773,\n",
       "       -0.02288171, -0.02473458, -0.0101205 ,  0.0092574 , -0.00690551,\n",
       "        0.00451988, -0.0005332 , -0.01339856, -0.0104327 , -0.01973443,\n",
       "       -0.00555878,  0.00194631,  0.00907221, -0.01402048, -0.00098338,\n",
       "       -0.01703855,  0.01049701,  0.00440311, -0.01331697,  0.00500894,\n",
       "       -0.00568917, -0.00233309,  0.01107254,  0.00281736, -0.00876446,\n",
       "        0.01477694,  0.01589098,  0.00446138,  0.0094331 ,  0.00790803])"
      ]
     },
     "execution_count": 44,
     "metadata": {},
     "output_type": "execute_result"
    }
   ],
   "source": [
    "V[6,:]"
   ]
  },
  {
   "cell_type": "code",
   "execution_count": 42,
   "metadata": {
    "scrolled": true
   },
   "outputs": [
    {
     "data": {
      "text/plain": [
       "<matplotlib.collections.PathCollection at 0x1291e5780>"
      ]
     },
     "execution_count": 42,
     "metadata": {},
     "output_type": "execute_result"
    },
    {
     "data": {
      "image/png": "[encoded data removed]",
      "text/plain": [
       "<Figure size 432x288 with 1 Axes>"
      ]
     },
     "metadata": {},
     "output_type": "display_data"
    }
   ],
   "source": [
    "plt.scatter(U[6,:],V[6,:])"
   ]
  },
  {
   "cell_type": "code",
   "execution_count": 46,
   "metadata": {
    "scrolled": false
   },
   "outputs": [
    {
     "data": {
      "text/plain": [
       "<matplotlib.collections.PathCollection at 0x1293b5048>"
      ]
     },
     "execution_count": 46,
     "metadata": {},
     "output_type": "execute_result"
    },
    {
     "data": {
      "image/png": "[encoded data removed]",
      "text/plain": [
       "<Figure size 432x288 with 1 Axes>"
      ]
     },
     "metadata": {},
     "output_type": "display_data"
    }
   ],
   "source": [
    "plt.scatter(U[3,:],V[3,:])"
   ]
  },
  {
   "cell_type": "code",
   "execution_count": 103,
   "metadata": {
    "scrolled": true
   },
   "outputs": [
    {
     "data": {
      "text/plain": [
       "<matplotlib.collections.PathCollection at 0x12962f470>"
      ]
     },
     "execution_count": 103,
     "metadata": {},
     "output_type": "execute_result"
    },
    {
     "data": {
      "image/png": "[encoded data removed]",
      "text/plain": [
       "<Figure size 432x288 with 1 Axes>"
      ]
     },
     "metadata": {},
     "output_type": "display_data"
    }
   ],
   "source": [
    "plt.scatter(U[0,:],U[1,:])"
   ]
  },
  {
   "cell_type": "code",
   "execution_count": 104,
   "metadata": {},
   "outputs": [
    {
     "data": {
      "text/plain": [
       "<matplotlib.collections.PathCollection at 0x1296d1588>"
      ]
     },
     "execution_count": 104,
     "metadata": {},
     "output_type": "execute_result"
    },
    {
     "data": {
      "image/png": "[encoded data removed]",
      "text/plain": [
       "<Figure size 432x288 with 1 Axes>"
      ]
     },
     "metadata": {},
     "output_type": "display_data"
    }
   ],
   "source": [
    "plt.scatter(U[1,:],U[2,:])"
   ]
  },
  {
   "cell_type": "code",
   "execution_count": 23,
   "metadata": {},
   "outputs": [],
   "source": [
    "predictions = MF_SGD.predict_all()"
   ]
  },
  {
   "cell_type": "code",
   "execution_count": 52,
   "metadata": {},
   "outputs": [
    {
     "data": {
      "text/plain": [
       "array([[8.24919747, 8.65050368, 8.81627965, ..., 8.62837923, 8.16655579,\n",
       "        8.52925245],\n",
       "       [8.79482852, 9.20223758, 9.36786742, ..., 9.17769699, 8.72108255,\n",
       "        9.08155055],\n",
       "       [8.77660634, 9.18692172, 9.35299733, ..., 9.16519069, 8.70861189,\n",
       "        9.06672725],\n",
       "       ...,\n",
       "       [8.63647158, 9.04531115, 9.21226063, ..., 9.02389285, 8.56759424,\n",
       "        8.9254521 ],\n",
       "       [8.80801968, 9.21113549, 9.37783124, ..., 9.18658133, 8.73042528,\n",
       "        9.09183504],\n",
       "       [8.77691644, 9.18261724, 9.34839987, ..., 9.15800332, 8.7018364 ,\n",
       "        9.06494362]])"
      ]
     },
     "execution_count": 52,
     "metadata": {},
     "output_type": "execute_result"
    }
   ],
   "source": [
    "predictions"
   ]
  },
  {
   "cell_type": "code",
   "execution_count": 55,
   "metadata": {},
   "outputs": [],
   "source": [
    "round_predictions = np.round(predictions)"
   ]
  },
  {
   "cell_type": "code",
   "execution_count": 58,
   "metadata": {},
   "outputs": [
    {
     "data": {
      "text/plain": [
       "array([[0., 0., 0., ..., 0., 0., 0.],\n",
       "       [0., 0., 0., ..., 0., 0., 0.],\n",
       "       [0., 0., 0., ..., 0., 0., 0.],\n",
       "       ...,\n",
       "       [0., 0., 0., ..., 0., 0., 0.],\n",
       "       [0., 0., 0., ..., 0., 0., 0.],\n",
       "       [0., 0., 0., ..., 0., 0., 0.]])"
      ]
     },
     "execution_count": 58,
     "metadata": {},
     "output_type": "execute_result"
    }
   ],
   "source": [
    "test"
   ]
  },
  {
   "cell_type": "code",
   "execution_count": 20,
   "metadata": {},
   "outputs": [],
   "source": [
    "test_row, test_column = test.nonzero()"
   ]
  },
  {
   "cell_type": "code",
   "execution_count": 21,
   "metadata": {},
   "outputs": [],
   "source": [
    "train_row, train_column = train.nonzero()"
   ]
  },
  {
   "cell_type": "code",
   "execution_count": 22,
   "metadata": {},
   "outputs": [
    {
     "data": {
      "text/plain": [
       "array([ 6., 10.,  6., ..., 10., 10., 10.])"
      ]
     },
     "execution_count": 22,
     "metadata": {},
     "output_type": "execute_result"
    }
   ],
   "source": [
    "test[test_row,test_column]"
   ]
  },
  {
   "cell_type": "code",
   "execution_count": 107,
   "metadata": {},
   "outputs": [],
   "source": [
    "test_predictions=[]\n",
    "\n",
    "for x in predictions[test_row,test_column]:\n",
    "    if x<3:\n",
    "        test_predictions.append(2)\n",
    "    elif x<5:\n",
    "        test_predictions.append(4)\n",
    "    elif x<7:\n",
    "        test_predictions.append(6)\n",
    "    elif x<9:\n",
    "        test_predictions.append(8)\n",
    "    else:\n",
    "        test_predictions.append(10)\n",
    "        "
   ]
  },
  {
   "cell_type": "code",
   "execution_count": 109,
   "metadata": {},
   "outputs": [
    {
     "data": {
      "text/plain": [
       "0.5559077809798271"
      ]
     },
     "execution_count": 109,
     "metadata": {},
     "output_type": "execute_result"
    }
   ],
   "source": [
    "accuracy_score(test[test_row,test_column],test_predictions)"
   ]
  },
  {
   "cell_type": "code",
   "execution_count": 111,
   "metadata": {},
   "outputs": [],
   "source": [
    "train_predictions=[]\n",
    "\n",
    "for x in predictions[train_row,train_column]:\n",
    "    if x<3:\n",
    "        train_predictions.append(2)\n",
    "    elif x<5:\n",
    "        train_predictions.append(4)\n",
    "    elif x<7:\n",
    "        train_predictions.append(6)\n",
    "    elif x<9:\n",
    "        train_predictions.append(8)\n",
    "    else:\n",
    "        train_predictions.append(10)"
   ]
  },
  {
   "cell_type": "code",
   "execution_count": 112,
   "metadata": {},
   "outputs": [
    {
     "data": {
      "text/plain": [
       "0.6968174113938399"
      ]
     },
     "execution_count": 112,
     "metadata": {},
     "output_type": "execute_result"
    }
   ],
   "source": [
    "accuracy_score(train[train_row,train_column],train_predictions)"
   ]
  },
  {
   "cell_type": "code",
   "execution_count": 79,
   "metadata": {},
   "outputs": [
    {
     "data": {
      "text/plain": [
       "array([9.19706792, 9.39285964, 8.90665427, ..., 9.31871005, 9.55741617,\n",
       "       9.15215644])"
      ]
     },
     "execution_count": 79,
     "metadata": {},
     "output_type": "execute_result"
    }
   ],
   "source": [
    "predictions[test_row,test_column]"
   ]
  },
  {
   "cell_type": "code",
   "execution_count": 78,
   "metadata": {},
   "outputs": [
    {
     "data": {
      "text/plain": [
       "10.0    4260\n",
       "8.0     1968\n",
       "6.0      545\n",
       "4.0      132\n",
       "2.0       35\n",
       "dtype: int64"
      ]
     },
     "execution_count": 78,
     "metadata": {},
     "output_type": "execute_result"
    }
   ],
   "source": [
    "pd.Series(test[test_row,test_column]).value_counts()"
   ]
  },
  {
   "cell_type": "code",
   "execution_count": 75,
   "metadata": {},
   "outputs": [
    {
     "data": {
      "text/plain": [
       "6.902044111748915"
      ]
     },
     "execution_count": 75,
     "metadata": {},
     "output_type": "execute_result"
    }
   ],
   "source": [
    "predictions[test_row,test_column].min()"
   ]
  },
  {
   "cell_type": "code",
   "execution_count": 97,
   "metadata": {},
   "outputs": [],
   "source": [
    "a = np.array([1.11,2,3.5,6,7.77,8,9.1])"
   ]
  },
  {
   "cell_type": "code",
   "execution_count": 98,
   "metadata": {},
   "outputs": [
    {
     "name": "stdout",
     "output_type": "stream",
     "text": [
      "1.11\n",
      "2.0\n",
      "3.5\n",
      "6.0\n",
      "7.77\n",
      "8.0\n",
      "9.1\n"
     ]
    }
   ],
   "source": [
    "a_classify = []\n",
    "for x in a:\n",
    "    if x<5:\n",
    "        a_classify.append(0)\n",
    "    else:\n",
    "        a_classify.append(1)\n",
    "        \n",
    "    "
   ]
  },
  {
   "cell_type": "code",
   "execution_count": 16,
   "metadata": {},
   "outputs": [],
   "source": [
    "%matplotlib inline\n",
    "import matplotlib.pyplot as plt\n",
    "import seaborn as sns\n",
    "sns.set()\n",
    "\n",
    "def plot_learning_curve(iter_array, model):\n",
    "    plt.plot(iter_array, model.train_mse, \\\n",
    "             label='Training', linewidth=3)\n",
    "    plt.plot(iter_array, model.test_mse, \\\n",
    "             label='Test', linewidth=3)\n",
    "\n",
    "\n",
    "    plt.xticks(fontsize=10);\n",
    "    plt.yticks(fontsize=10);\n",
    "    plt.xlabel('iterations', fontsize=15);\n",
    "    plt.ylabel('MSE', fontsize=15);\n",
    "    plt.legend(loc='best', fontsize=13);"
   ]
  },
  {
   "cell_type": "code",
   "execution_count": 118,
   "metadata": {
    "scrolled": true
   },
   "outputs": [
    {
     "name": "stdout",
     "output_type": "stream",
     "text": [
      "Iteration: 1\n",
      "Train mse: 2.001890879850438\n",
      "Test mse: 2.3246028528533658\n",
      "Iteration: 2\n",
      "Train mse: 1.9819346575944172\n",
      "Test mse: 2.3103212276732257\n",
      "Iteration: 5\n",
      "Train mse: 1.9407311848722433\n",
      "Test mse: 2.276837918328355\n",
      "Iteration: 10\n",
      "Train mse: 1.8947121441280763\n",
      "Test mse: 2.2384382521861728\n",
      "Iteration: 25\n",
      "\tcurrent iteration: 10\n",
      "Train mse: 1.8041335363033257\n",
      "Test mse: 2.1771027103423886\n",
      "Iteration: 50\n",
      "\tcurrent iteration: 10\n",
      "\tcurrent iteration: 20\n",
      "Train mse: 1.703376171955742\n",
      "Test mse: 2.1376568634032176\n",
      "Iteration: 100\n",
      "\tcurrent iteration: 10\n",
      "\tcurrent iteration: 20\n",
      "\tcurrent iteration: 30\n",
      "\tcurrent iteration: 40\n",
      "\tcurrent iteration: 50\n",
      "Train mse: 1.5658616928550089\n",
      "Test mse: 2.117359160111221\n",
      "Iteration: 200\n",
      "\tcurrent iteration: 10\n",
      "\tcurrent iteration: 20\n",
      "\tcurrent iteration: 30\n",
      "\tcurrent iteration: 40\n",
      "\tcurrent iteration: 50\n",
      "\tcurrent iteration: 60\n",
      "\tcurrent iteration: 70\n",
      "\tcurrent iteration: 80\n",
      "\tcurrent iteration: 90\n",
      "\tcurrent iteration: 100\n",
      "Train mse: 1.392061569495246\n",
      "Test mse: 2.1179082483561356\n"
     ]
    }
   ],
   "source": [
    "MF_SGD = ExplicitMF(train, n_factors=50, learning='sgd', item_fact_reg=0.5, user_fact_reg=0.75, item_bias_reg=0.5,user_bias_reg=0.75,verbose=True)\n",
    "iter_array = [100]\n",
    "MF_SGD.calculate_learning_curve(iter_array, test, learning_rate=0.001)"
   ]
  },
  {
   "cell_type": "code",
   "execution_count": 19,
   "metadata": {
    "scrolled": false
   },
   "outputs": [
    {
     "data": {
      "image/png": "[encoded data removed]",
      "text/plain": [
       "<Figure size 432x288 with 1 Axes>"
      ]
     },
     "metadata": {},
     "output_type": "display_data"
    }
   ],
   "source": [
    "plot_learning_curve(iter_array, MF_SGD)"
   ]
  },
  {
   "cell_type": "code",
   "execution_count": 14,
   "metadata": {},
   "outputs": [
    {
     "name": "stdout",
     "output_type": "stream",
     "text": [
      "user bias: 4.192210847700495e-07 1.770740794686779\n",
      "item bias: 0.0 1.5254147301339602\n"
     ]
    }
   ],
   "source": [
    "print('user bias:', abs(MF_SGD.user_bias).min(),abs(MF_SGD.user_bias).max())\n",
    "print('item bias:', abs(MF_SGD.item_bias).min(),abs(MF_SGD.item_bias).max())"
   ]
  },
  {
   "cell_type": "code",
   "execution_count": null,
   "metadata": {},
   "outputs": [],
   "source": []
  }
 ],
 "metadata": {
  "kernelspec": {
   "display_name": "Python 3",
   "language": "python",
   "name": "python3"
  },
  "language_info": {
   "codemirror_mode": {
    "name": "ipython",
    "version": 3
   },
   "file_extension": ".py",
   "mimetype": "text/x-python",
   "name": "python",
   "nbconvert_exporter": "python",
   "pygments_lexer": "ipython3",
   "version": "3.6.5"
  }
 },
 "nbformat": 4,
 "nbformat_minor": 2
}
