{
 "cells": [
  {
   "cell_type": "code",
   "execution_count": 1,
   "metadata": {},
   "outputs": [],
   "source": [
    "import json\n",
    "import numpy as np\n",
    "import pandas as pd\n",
    "import random\n",
    "from sklearn import linear_model\n",
    "from sklearn.linear_model import LinearRegression\n",
    "from sklearn.model_selection import train_test_split\n",
    "from sklearn.metrics import mean_squared_error\n",
    "from sklearn.ensemble import RandomForestRegressor\n",
    "from sklearn.datasets import make_regression\n",
    "from sklearn.ensemble import GradientBoostingRegressor"
   ]
  },
  {
   "cell_type": "code",
   "execution_count": 2,
   "metadata": {},
   "outputs": [],
   "source": [
    "file = \"./renttherunway_final_data.json\"\n",
    "df = pd.read_json(file,lines=True)\n"
   ]
  },
  {
   "cell_type": "code",
   "execution_count": 3,
   "metadata": {},
   "outputs": [
    {
     "name": "stdout",
     "output_type": "stream",
     "text": [
      "--- map cups to numerical value ---\n",
      "{'cups': {'a': 1, 'b': 2, 'c': 3, 'd': 4, 'f': 5, 'g': 6, 'h': 7, 'i': 8, 'j': 9}}\n"
     ]
    }
   ],
   "source": [
    "# transfer bust size into bust size and cups\n",
    "df=df.dropna()\n",
    "df['cups'] = df['bust size'].str.extract(r'([a-z])')\n",
    "labels = df['cups'].astype('category').cat.categories.tolist()\n",
    "replace_map = {'cups' : {k: v for k,v in zip(labels,list(range(1,len(labels)+1)))}}\n",
    "print('--- map cups to numerical value ---')\n",
    "print(replace_map)\n",
    "df.replace(replace_map, inplace=True)\n",
    "df['bust size'] = df['bust size'].str.extract('(\\d+)').astype(int)\n",
    "# remove lbs after 'weight'\n",
    "df['weight'] = df['weight'].str.extract('(\\d+)').astype(int)\n",
    "# parse height to usable numerical format\n",
    "def parse_height(ht):\n",
    "    ht_ = ht.split(\"' \")\n",
    "    ft_ = float(ht_[0])\n",
    "    in_ = float(ht_[1].replace(\"\\\"\",\"\"))\n",
    "    return (12*ft_) + in_\n",
    "df['height'] = df['height'].apply(lambda x:parse_height(x))\n",
    "# change 'party: cocktail' in 'rented for' to 'others'\n",
    "df.loc[df['rented for'] == 'party: cocktail', df.columns == 'rented for'] = 'other'"
   ]
  },
  {
   "cell_type": "code",
   "execution_count": 4,
   "metadata": {},
   "outputs": [],
   "source": [
    "df=df.drop(columns=['user_id', 'item_id','review_date','review_summary','review_text','fit'])"
   ]
  },
  {
   "cell_type": "code",
   "execution_count": 5,
   "metadata": {},
   "outputs": [
    {
     "data": {
      "text/plain": [
       "array(['romper', 'gown', 'dress', 'sheath', 'leggings', 'sweater',\n",
       "       'jacket', 'shirtdress', 'jumpsuit', 'shift', 'top', 'shirt',\n",
       "       'mini', 'skirt', 'maxi', 'pants', 'suit', 'coat', 'blouse',\n",
       "       'trench', 'cape', 'bomber', 'blazer', 'vest', 'duster', 'ballgown',\n",
       "       'tank', 'poncho', 'frock', 'tunic', 'cardigan', 'down', 'culottes',\n",
       "       'midi', 'legging', 'print', 'pant', 'knit', 'culotte',\n",
       "       'sweatshirt', 'peacoat', 'trouser', 'kaftan', 'overalls', 'jogger',\n",
       "       'tee', 'combo', 'henley', 'blouson', 'pullover', 'turtleneck',\n",
       "       'trousers', 'overcoat', 'hoodie', 't-shirt', 'caftan', 'tight',\n",
       "       'kimono', 'cami', 'for', 'crewneck', 'skirts', 'parka',\n",
       "       'buttondown', 'skort', 'sweatershirt', 'jeans', 'sweatpants'],\n",
       "      dtype=object)"
      ]
     },
     "execution_count": 5,
     "metadata": {},
     "output_type": "execute_result"
    }
   ],
   "source": [
    "df['category'].unique()"
   ]
  },
  {
   "cell_type": "code",
   "execution_count": 6,
   "metadata": {},
   "outputs": [],
   "source": [
    "df.loc[df['category'].isin(['sweater','shirt','blouse','vest','tank','tunic','print','sweatshirt',\n",
    "                            'tee','blouson','turtleneck','hoodie','t-shirt','cami','crewneck',\n",
    "                            'buttondown','sweatershirt'\n",
    "                           ]),df.columns=='category']='tops'\n",
    "df.loc[df['category'].isin(['pants','down','culottes','pant','trouser','culotte','jogger',\n",
    "                            'trousers','jeans', 'sweatpants'\n",
    "                           ]),df.columns=='category']='bottoms'\n",
    "df.loc[df['category'].isin(['ballgown']),df.columns=='category']='gown'\n",
    "df.loc[df['category'].isin(['leggings','legging']),df.columns=='category']='active'\n",
    "df.loc[df['category'].isin(['jacket','trench','cape','bomber','blazer','duster','poncho',\n",
    "                            'cardigan','peacoat','pullover','overcoat','parka'\n",
    "                           ]),df.columns=='category']='coat'\n",
    "df.loc[df['category'].isin(['mini','midi','skirts']),df.columns=='category']='skirt'\n",
    "df.loc[df['category'].isin(['jumpsuit']),df.columns=='category']='romper'\n",
    "df.loc[df['category'].isin(['sheath','shift','maxi','shirtdress','frock','kaftan','caftan'\n",
    "                           ]),df.columns=='category']='dress'\n",
    "df.loc[df['category'].isin(['overalls','combo','henley','tight','kimono','for','skort']),df.columns=='category']='other'"
   ]
  },
  {
   "cell_type": "code",
   "execution_count": 7,
   "metadata": {},
   "outputs": [
    {
     "name": "stdout",
     "output_type": "stream",
     "text": [
      "<class 'pandas.core.frame.DataFrame'>\n",
      "Int64Index: 146381 entries, 0 to 192543\n",
      "Data columns (total 10 columns):\n",
      "age           146381 non-null float64\n",
      "body type     146381 non-null object\n",
      "bust size     146381 non-null int64\n",
      "category      146381 non-null object\n",
      "height        146381 non-null float64\n",
      "rating        146381 non-null float64\n",
      "rented for    146381 non-null object\n",
      "size          146381 non-null int64\n",
      "weight        146381 non-null int64\n",
      "cups          146381 non-null int64\n",
      "dtypes: float64(3), int64(4), object(3)\n",
      "memory usage: 12.3+ MB\n"
     ]
    }
   ],
   "source": [
    "df.info()\n",
    "df= pd.get_dummies(df, columns=['body type','category','rented for'])"
   ]
  },
  {
   "cell_type": "code",
   "execution_count": 8,
   "metadata": {
    "scrolled": true
   },
   "outputs": [
    {
     "data": {
      "text/html": [
       "<div>\n",
       "<style scoped>\n",
       "    .dataframe tbody tr th:only-of-type {\n",
       "        vertical-align: middle;\n",
       "    }\n",
       "\n",
       "    .dataframe tbody tr th {\n",
       "        vertical-align: top;\n",
       "    }\n",
       "\n",
       "    .dataframe thead th {\n",
       "        text-align: right;\n",
       "    }\n",
       "</style>\n",
       "<table border=\"1\" class=\"dataframe\">\n",
       "  <thead>\n",
       "    <tr style=\"text-align: right;\">\n",
       "      <th></th>\n",
       "      <th>age</th>\n",
       "      <th>bust size</th>\n",
       "      <th>height</th>\n",
       "      <th>rating</th>\n",
       "      <th>size</th>\n",
       "      <th>weight</th>\n",
       "      <th>cups</th>\n",
       "      <th>body type_apple</th>\n",
       "      <th>body type_athletic</th>\n",
       "      <th>body type_full bust</th>\n",
       "      <th>...</th>\n",
       "      <th>category_top</th>\n",
       "      <th>category_tops</th>\n",
       "      <th>rented for_date</th>\n",
       "      <th>rented for_everyday</th>\n",
       "      <th>rented for_formal affair</th>\n",
       "      <th>rented for_other</th>\n",
       "      <th>rented for_party</th>\n",
       "      <th>rented for_vacation</th>\n",
       "      <th>rented for_wedding</th>\n",
       "      <th>rented for_work</th>\n",
       "    </tr>\n",
       "  </thead>\n",
       "  <tbody>\n",
       "    <tr>\n",
       "      <th>0</th>\n",
       "      <td>28.0</td>\n",
       "      <td>34</td>\n",
       "      <td>68.0</td>\n",
       "      <td>10.0</td>\n",
       "      <td>14</td>\n",
       "      <td>137</td>\n",
       "      <td>4</td>\n",
       "      <td>0</td>\n",
       "      <td>0</td>\n",
       "      <td>0</td>\n",
       "      <td>...</td>\n",
       "      <td>0</td>\n",
       "      <td>0</td>\n",
       "      <td>0</td>\n",
       "      <td>0</td>\n",
       "      <td>0</td>\n",
       "      <td>0</td>\n",
       "      <td>0</td>\n",
       "      <td>1</td>\n",
       "      <td>0</td>\n",
       "      <td>0</td>\n",
       "    </tr>\n",
       "    <tr>\n",
       "      <th>1</th>\n",
       "      <td>36.0</td>\n",
       "      <td>34</td>\n",
       "      <td>66.0</td>\n",
       "      <td>10.0</td>\n",
       "      <td>12</td>\n",
       "      <td>132</td>\n",
       "      <td>2</td>\n",
       "      <td>0</td>\n",
       "      <td>0</td>\n",
       "      <td>0</td>\n",
       "      <td>...</td>\n",
       "      <td>0</td>\n",
       "      <td>0</td>\n",
       "      <td>0</td>\n",
       "      <td>0</td>\n",
       "      <td>0</td>\n",
       "      <td>1</td>\n",
       "      <td>0</td>\n",
       "      <td>0</td>\n",
       "      <td>0</td>\n",
       "      <td>0</td>\n",
       "    </tr>\n",
       "    <tr>\n",
       "      <th>3</th>\n",
       "      <td>34.0</td>\n",
       "      <td>34</td>\n",
       "      <td>65.0</td>\n",
       "      <td>8.0</td>\n",
       "      <td>8</td>\n",
       "      <td>135</td>\n",
       "      <td>3</td>\n",
       "      <td>0</td>\n",
       "      <td>0</td>\n",
       "      <td>0</td>\n",
       "      <td>...</td>\n",
       "      <td>0</td>\n",
       "      <td>0</td>\n",
       "      <td>0</td>\n",
       "      <td>0</td>\n",
       "      <td>1</td>\n",
       "      <td>0</td>\n",
       "      <td>0</td>\n",
       "      <td>0</td>\n",
       "      <td>0</td>\n",
       "      <td>0</td>\n",
       "    </tr>\n",
       "    <tr>\n",
       "      <th>4</th>\n",
       "      <td>27.0</td>\n",
       "      <td>34</td>\n",
       "      <td>69.0</td>\n",
       "      <td>10.0</td>\n",
       "      <td>12</td>\n",
       "      <td>145</td>\n",
       "      <td>2</td>\n",
       "      <td>0</td>\n",
       "      <td>1</td>\n",
       "      <td>0</td>\n",
       "      <td>...</td>\n",
       "      <td>0</td>\n",
       "      <td>0</td>\n",
       "      <td>0</td>\n",
       "      <td>0</td>\n",
       "      <td>0</td>\n",
       "      <td>0</td>\n",
       "      <td>0</td>\n",
       "      <td>0</td>\n",
       "      <td>1</td>\n",
       "      <td>0</td>\n",
       "    </tr>\n",
       "    <tr>\n",
       "      <th>5</th>\n",
       "      <td>45.0</td>\n",
       "      <td>32</td>\n",
       "      <td>68.0</td>\n",
       "      <td>8.0</td>\n",
       "      <td>8</td>\n",
       "      <td>138</td>\n",
       "      <td>2</td>\n",
       "      <td>0</td>\n",
       "      <td>1</td>\n",
       "      <td>0</td>\n",
       "      <td>...</td>\n",
       "      <td>0</td>\n",
       "      <td>0</td>\n",
       "      <td>1</td>\n",
       "      <td>0</td>\n",
       "      <td>0</td>\n",
       "      <td>0</td>\n",
       "      <td>0</td>\n",
       "      <td>0</td>\n",
       "      <td>0</td>\n",
       "      <td>0</td>\n",
       "    </tr>\n",
       "  </tbody>\n",
       "</table>\n",
       "<p>5 rows × 34 columns</p>\n",
       "</div>"
      ],
      "text/plain": [
       "    age  bust size  height  rating  size  weight  cups  body type_apple  \\\n",
       "0  28.0         34    68.0    10.0    14     137     4                0   \n",
       "1  36.0         34    66.0    10.0    12     132     2                0   \n",
       "3  34.0         34    65.0     8.0     8     135     3                0   \n",
       "4  27.0         34    69.0    10.0    12     145     2                0   \n",
       "5  45.0         32    68.0     8.0     8     138     2                0   \n",
       "\n",
       "   body type_athletic  body type_full bust       ...         category_top  \\\n",
       "0                   0                    0       ...                    0   \n",
       "1                   0                    0       ...                    0   \n",
       "3                   0                    0       ...                    0   \n",
       "4                   1                    0       ...                    0   \n",
       "5                   1                    0       ...                    0   \n",
       "\n",
       "   category_tops  rented for_date  rented for_everyday  \\\n",
       "0              0                0                    0   \n",
       "1              0                0                    0   \n",
       "3              0                0                    0   \n",
       "4              0                0                    0   \n",
       "5              0                1                    0   \n",
       "\n",
       "   rented for_formal affair  rented for_other  rented for_party  \\\n",
       "0                         0                 0                 0   \n",
       "1                         0                 1                 0   \n",
       "3                         1                 0                 0   \n",
       "4                         0                 0                 0   \n",
       "5                         0                 0                 0   \n",
       "\n",
       "   rented for_vacation  rented for_wedding  rented for_work  \n",
       "0                    1                   0                0  \n",
       "1                    0                   0                0  \n",
       "3                    0                   0                0  \n",
       "4                    0                   1                0  \n",
       "5                    0                   0                0  \n",
       "\n",
       "[5 rows x 34 columns]"
      ]
     },
     "execution_count": 8,
     "metadata": {},
     "output_type": "execute_result"
    }
   ],
   "source": [
    "df.head()"
   ]
  },
  {
   "cell_type": "code",
   "execution_count": 9,
   "metadata": {},
   "outputs": [],
   "source": [
    "import matplotlib.pyplot as plt\n",
    "%matplotlib inline"
   ]
  },
  {
   "cell_type": "code",
   "execution_count": 10,
   "metadata": {
    "scrolled": false
   },
   "outputs": [
    {
     "data": {
      "image/png": "[encoded data removed]",
      "text/plain": [
       "<Figure size 432x288 with 1 Axes>"
      ]
     },
     "metadata": {},
     "output_type": "display_data"
    }
   ],
   "source": [
    "plt.scatter(df['age'],df['rating'])\n",
    "plt.ylabel('Ratings')\n",
    "plt.xlabel('Age')\n",
    "plt.title('Ratings Vs Age')\n",
    "plt.show()"
   ]
  },
  {
   "cell_type": "code",
   "execution_count": 11,
   "metadata": {
    "scrolled": true
   },
   "outputs": [
    {
     "data": {
      "image/png": "[encoded data removed]",
      "text/plain": [
       "<Figure size 432x288 with 1 Axes>"
      ]
     },
     "metadata": {},
     "output_type": "display_data"
    }
   ],
   "source": [
    "plt.scatter(df['height'],df['rating'])\n",
    "plt.ylabel('Ratings')\n",
    "plt.xlabel('Height')\n",
    "plt.title('Ratings Vs Height')\n",
    "plt.show()"
   ]
  },
  {
   "cell_type": "code",
   "execution_count": 13,
   "metadata": {
    "scrolled": true
   },
   "outputs": [
    {
     "data": {
      "image/png": "[encoded data removed]",
      "text/plain": [
       "<Figure size 432x288 with 1 Axes>"
      ]
     },
     "metadata": {},
     "output_type": "display_data"
    }
   ],
   "source": [
    "plt.scatter(df['size'],df['rating'])\n",
    "plt.ylabel('Ratings')\n",
    "plt.xlabel('Size')\n",
    "plt.title('Ratings Vs Size')\n",
    "plt.show()"
   ]
  },
  {
   "cell_type": "code",
   "execution_count": 14,
   "metadata": {},
   "outputs": [
    {
     "data": {
      "image/png": "[encoded data removed]",
      "text/plain": [
       "<Figure size 432x288 with 1 Axes>"
      ]
     },
     "metadata": {},
     "output_type": "display_data"
    }
   ],
   "source": [
    "plt.scatter(df['weight'],df['rating'])\n",
    "plt.ylabel('Ratings')\n",
    "plt.xlabel('Weight')\n",
    "plt.title('Ratings Vs Weight')\n",
    "plt.show()"
   ]
  },
  {
   "cell_type": "code",
   "execution_count": 9,
   "metadata": {},
   "outputs": [],
   "source": [
    "x=df.drop(columns=['rating'],axis=1)\n",
    "y=df['rating']\n",
    "x_train, x_test,y_train,y_test = train_test_split(x,y, test_size=0.33)"
   ]
  },
  {
   "cell_type": "code",
   "execution_count": 13,
   "metadata": {},
   "outputs": [
    {
     "data": {
      "text/plain": [
       "pandas.core.frame.DataFrame"
      ]
     },
     "execution_count": 13,
     "metadata": {},
     "output_type": "execute_result"
    }
   ],
   "source": [
    "type(x_train)"
   ]
  },
  {
   "cell_type": "code",
   "execution_count": 10,
   "metadata": {},
   "outputs": [
    {
     "name": "stdout",
     "output_type": "stream",
     "text": [
      "Linear Regression Train MSE: 2.039434912509223\n",
      "Linear Regression Test MSE: 2.0369369619525313\n"
     ]
    }
   ],
   "source": [
    "#linear regression\n",
    "lg=LinearRegression(normalize=True).fit(x_train,y_train)\n",
    "lg_train_pred=lg.predict(x_train)\n",
    "lg_train_mse=mean_squared_error(y_train, lg_train_pred)\n",
    "print('Linear Regression Train MSE:',lg_train_mse)\n",
    "lg_test_pred=lg.predict(x_test)\n",
    "lg_test_mse=mean_squared_error(y_test, lg_test_pred)\n",
    "print('Linear Regression Test MSE:',lg_test_mse)"
   ]
  },
  {
   "cell_type": "code",
   "execution_count": 11,
   "metadata": {},
   "outputs": [
    {
     "name": "stdout",
     "output_type": "stream",
     "text": [
      "Random Forest Train MSE: 1.979360497595552\n",
      "Random Forest Test MSE: 2.0282189264737602\n"
     ]
    }
   ],
   "source": [
    "#random forest regressor\n",
    "# x_train,y_train= make_regression(n_features=36, n_informative=2,random_state=0, shuffle=False)\n",
    "rm=RandomForestRegressor(max_depth=10,random_state=0,n_estimators=100,min_samples_split=5,min_samples_leaf=20)\n",
    "rm.fit(x_train,y_train)\n",
    "rm_train_pred=rm.predict(x_train)\n",
    "rm_train_mse=mean_squared_error(y_train, rm_train_pred)\n",
    "print('Random Forest Train MSE:',rm_train_mse)\n",
    "rm_test_pred=rm.predict(x_test)\n",
    "rm_test_mse=mean_squared_error(y_test, rm_test_pred)\n",
    "print('Random Forest Test MSE:',rm_test_mse)"
   ]
  },
  {
   "cell_type": "code",
   "execution_count": 12,
   "metadata": {},
   "outputs": [
    {
     "name": "stdout",
     "output_type": "stream",
     "text": [
      "Gradient Boosting Regressor Train MSE: 2.913280652561815\n",
      "Gradient Boosting Regressor Test MSE: 2.9038214714528214\n"
     ]
    }
   ],
   "source": [
    "#Gradient Boosting Regressor\n",
    "gb=GradientBoostingRegressor(loss='quantile', learning_rate=0.0001, n_estimators=100, min_samples_split=2, max_depth=1).fit(x_train,y_train)\n",
    "gb_train_pred=gb.predict(x_train)\n",
    "gb_train_mse=mean_squared_error(y_train, gb_train_pred)\n",
    "print('Gradient Boosting Regressor Train MSE:',gb_train_mse)\n",
    "gb_test_pred=gb.predict(x_test)\n",
    "gb_test_mse=mean_squared_error(y_test, gb_test_pred)\n",
    "print('Gradient Boosting Regressor Test MSE:',gb_test_mse)"
   ]
  },
  {
   "cell_type": "code",
   "execution_count": null,
   "metadata": {},
   "outputs": [],
   "source": []
  }
 ],
 "metadata": {
  "kernelspec": {
   "display_name": "Python 3",
   "language": "python",
   "name": "python3"
  },
  "language_info": {
   "codemirror_mode": {
    "name": "ipython",
    "version": 3
   },
   "file_extension": ".py",
   "mimetype": "text/x-python",
   "name": "python",
   "nbconvert_exporter": "python",
   "pygments_lexer": "ipython3",
   "version": "3.6.5"
  }
 },
 "nbformat": 4,
 "nbformat_minor": 2
}
